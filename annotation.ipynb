{
 "cells": [
  {
   "cell_type": "code",
   "execution_count": 1,
   "metadata": {},
   "outputs": [],
   "source": [
    "# https://github.com/knowsuchagency/jupyter-mypy/blob/master/main.py\n",
    "\"\"\"\n",
    "Add mypy type-checking cell magic to jupyter/ipython.\n",
    "Save this script to your ipython profile's startup directory.\n",
    "IPython's directories can be found via `ipython locate [profile]` to find the current ipython directory and ipython profile directory, respectively.\n",
    "For example, this file could exist on a path like this on mac:\n",
    "/Users/yourusername/.ipython/profile_default/startup/typecheck.py\n",
    "where /Users/yourusername/.ipython/profile_default/ is the ipython directory for\n",
    "the default profile.\n",
    "The line magic is called \"typecheck\" to avoid namespace conflict with the mypy\n",
    "package.\n",
    "\"\"\"\n",
    "\n",
    "from IPython.core.magic import register_cell_magic\n",
    "\n",
    "\n",
    "@register_cell_magic\n",
    "def typecheck(line, cell):\n",
    "    \"\"\"\n",
    "    Run the following cell though mypy.\n",
    "    Any parameters that would normally be passed to the mypy cli\n",
    "    can be passed on the first line, with the exception of the\n",
    "    -c flag we use to pass the code from the cell we want to execute\n",
    "     i.e.\n",
    "    %%typecheck --ignore-missing-imports\n",
    "    ...\n",
    "    ...\n",
    "    ...\n",
    "    mypy stdout and stderr will print prior to output of cell. If there are no conflicts,\n",
    "    nothing will be printed by mypy.\n",
    "    \"\"\"\n",
    "\n",
    "    from IPython import get_ipython\n",
    "    from mypy import api\n",
    "    \n",
    "    cell = '\\n' + cell\n",
    "    mypy_result = api.run(line.split() + ['-c', cell])\n",
    "\n",
    "    if mypy_result[0]:  # print mypy stdout\n",
    "        print(mypy_result[0])\n",
    "\n",
    "    if mypy_result[1]:  # print mypy stderr\n",
    "        print(mypy_result[1])\n",
    "\n",
    "    shell = get_ipython()\n",
    "    shell.run_cell(cell)\n",
    "    \n",
    "def reveal_type(*args, **argkw):\n",
    "    pass\n",
    "\n"
   ]
  },
  {
   "cell_type": "markdown",
   "metadata": {},
   "source": [
    "# Function Annotations"
   ]
  },
  {
   "cell_type": "code",
   "execution_count": 15,
   "metadata": {},
   "outputs": [],
   "source": [
    "import math\n",
    "\n",
    "def circumference(radius: float) -> float:\n",
    "    return 2 * math.pi * radius"
   ]
  },
  {
   "cell_type": "code",
   "execution_count": 16,
   "metadata": {},
   "outputs": [
    {
     "data": {
      "text/plain": [
       "7.728317927830891"
      ]
     },
     "execution_count": 16,
     "metadata": {},
     "output_type": "execute_result"
    }
   ],
   "source": [
    "circumference(1.23)"
   ]
  },
  {
   "cell_type": "code",
   "execution_count": 17,
   "metadata": {},
   "outputs": [
    {
     "name": "stdout",
     "output_type": "stream",
     "text": [
      "{'radius': <class 'float'>, 'return': <class 'float'>}\n"
     ]
    }
   ],
   "source": [
    "print(circumference.__annotations__)"
   ]
  },
  {
   "cell_type": "markdown",
   "metadata": {},
   "source": [
    "# Variable Annotations"
   ]
  },
  {
   "cell_type": "code",
   "execution_count": 5,
   "metadata": {},
   "outputs": [],
   "source": [
    "pi: float = 3.142\n",
    "\n",
    "def circumference(radius: float) -> float:\n",
    "    return 2 * pi * radius"
   ]
  },
  {
   "cell_type": "code",
   "execution_count": 6,
   "metadata": {},
   "outputs": [
    {
     "data": {
      "text/plain": [
       "6.284"
      ]
     },
     "execution_count": 6,
     "metadata": {},
     "output_type": "execute_result"
    }
   ],
   "source": [
    "circumference(1)"
   ]
  },
  {
   "cell_type": "code",
   "execution_count": 8,
   "metadata": {},
   "outputs": [
    {
     "name": "stdout",
     "output_type": "stream",
     "text": [
      "{'pi': <class 'float'>}\n"
     ]
    }
   ],
   "source": [
    "print(__annotations__)"
   ]
  },
  {
   "cell_type": "code",
   "execution_count": 10,
   "metadata": {},
   "outputs": [],
   "source": [
    "nothing: str"
   ]
  },
  {
   "cell_type": "code",
   "execution_count": 11,
   "metadata": {},
   "outputs": [
    {
     "ename": "NameError",
     "evalue": "name 'nothing' is not defined",
     "output_type": "error",
     "traceback": [
      "\u001b[1;31m---------------------------------------------------------------------------\u001b[0m",
      "\u001b[1;31mNameError\u001b[0m                                 Traceback (most recent call last)",
      "\u001b[1;32m<ipython-input-11-44e96b819408>\u001b[0m in \u001b[0;36m<module>\u001b[1;34m()\u001b[0m\n\u001b[1;32m----> 1\u001b[1;33m \u001b[0mnothing\u001b[0m\u001b[1;33m\u001b[0m\u001b[0m\n\u001b[0m",
      "\u001b[1;31mNameError\u001b[0m: name 'nothing' is not defined"
     ]
    }
   ],
   "source": [
    "nothing"
   ]
  },
  {
   "cell_type": "code",
   "execution_count": 13,
   "metadata": {
    "scrolled": true
   },
   "outputs": [
    {
     "name": "stdout",
     "output_type": "stream",
     "text": [
      "{'pi': <class 'float'>, 'nothing': <class 'str'>}\n"
     ]
    }
   ],
   "source": [
    "print(__annotations__)"
   ]
  },
  {
   "cell_type": "markdown",
   "metadata": {},
   "source": [
    "# Type Comments"
   ]
  },
  {
   "cell_type": "code",
   "execution_count": 20,
   "metadata": {},
   "outputs": [],
   "source": [
    "import math\n",
    "\n",
    "def circumference_v2(radius):\n",
    "    # type: (float) -> float\n",
    "    return 2 * math.pi * radius"
   ]
  },
  {
   "cell_type": "code",
   "execution_count": 21,
   "metadata": {},
   "outputs": [
    {
     "data": {
      "text/plain": [
       "{}"
      ]
     },
     "execution_count": 21,
     "metadata": {},
     "output_type": "execute_result"
    }
   ],
   "source": [
    "circumference_v2.__annotations__"
   ]
  },
  {
   "cell_type": "code",
   "execution_count": 22,
   "metadata": {},
   "outputs": [
    {
     "name": "stdout",
     "output_type": "stream",
     "text": [
      "---------- Type Comments Work ----------\n"
     ]
    }
   ],
   "source": [
    "def headline(text, width=80, fill_char=\"-\"):\n",
    "    # type: (str, int, str) -> str\n",
    "    return f\" {text.title()} \".center(width, fill_char)\n",
    "\n",
    "print(headline(\"type comments work\", width=40))"
   ]
  },
  {
   "cell_type": "code",
   "execution_count": null,
   "metadata": {},
   "outputs": [],
   "source": []
  },
  {
   "cell_type": "code",
   "execution_count": 8,
   "metadata": {},
   "outputs": [
    {
     "name": "stdout",
     "output_type": "stream",
     "text": [
      "<string>:11: error: Revealed type is 'builtins.list[builtins.str*]'\n",
      "<string>:14: error: Revealed type is 'Any'\n",
      "\n"
     ]
    }
   ],
   "source": [
    "%%typecheck\n",
    "\n",
    "# choose.py\n",
    "\n",
    "import random\n",
    "from typing import Any, Sequence\n",
    "\n",
    "def choose(items: Sequence[Any]) -> Any:\n",
    "    return random.choice(items)\n",
    "\n",
    "names = [\"Guido\", \"Jukka\", \"Ivan\"]\n",
    "reveal_type(names)\n",
    "\n",
    "name = choose(names)\n",
    "reveal_type(name)"
   ]
  },
  {
   "cell_type": "markdown",
   "metadata": {},
   "source": [
    "# Playing With Python Types, Part 2"
   ]
  },
  {
   "cell_type": "markdown",
   "metadata": {},
   "source": [
    "## Type Variables"
   ]
  },
  {
   "cell_type": "code",
   "execution_count": 20,
   "metadata": {},
   "outputs": [
    {
     "name": "stdout",
     "output_type": "stream",
     "text": [
      "<string>:13: error: Revealed type is 'builtins.list[builtins.str*]'\n",
      "<string>:16: error: Revealed type is 'builtins.str*'\n",
      "\n"
     ]
    }
   ],
   "source": [
    "%%typecheck\n",
    "# choose.py\n",
    "\n",
    "import random\n",
    "from typing import Sequence, TypeVar\n",
    "\n",
    "Choosable = TypeVar(\"Choosable\")\n",
    "\n",
    "def choose(items: Sequence[Choosable]) -> Choosable:\n",
    "    return random.choice(items)\n",
    "\n",
    "names = [\"Guido\", \"Jukka\", \"Ivan\"]\n",
    "reveal_type(names)\n",
    "\n",
    "name = choose(names)\n",
    "reveal_type(name)"
   ]
  },
  {
   "cell_type": "code",
   "execution_count": 9,
   "metadata": {},
   "outputs": [
    {
     "name": "stdout",
     "output_type": "stream",
     "text": [
      "<string>:12: error: Revealed type is 'builtins.str*'\n",
      "<string>:13: error: Revealed type is 'builtins.float*'\n",
      "<string>:14: error: Revealed type is 'builtins.float*'\n",
      "<string>:15: error: Revealed type is 'builtins.object*'\n",
      "<string>:15: error: Value of type variable \"Choosable\" of \"choose\" cannot be \"object\"\n",
      "\n"
     ]
    }
   ],
   "source": [
    "%%typecheck\n",
    "# choose.py\n",
    "\n",
    "import random\n",
    "from typing import Sequence, TypeVar\n",
    "\n",
    "Choosable = TypeVar(\"Choosable\", str, float)\n",
    "\n",
    "def choose(items: Sequence[Choosable]) -> Choosable:\n",
    "    return random.choice(items)\n",
    "\n",
    "reveal_type(choose([\"Guido\", \"Jukka\", \"Ivan\"]))\n",
    "reveal_type(choose([1, 2, 3]))\n",
    "reveal_type(choose([True, 42, 3.14]))\n",
    "reveal_type(choose([\"Python\", 3, 7]))"
   ]
  },
  {
   "cell_type": "markdown",
   "metadata": {},
   "source": [
    "## The Optional Type"
   ]
  },
  {
   "cell_type": "code",
   "execution_count": 3,
   "metadata": {},
   "outputs": [],
   "source": [
    "\n",
    "def player_order(names, start=None):\n",
    "    \"\"\"Rotate player order so that start goes first\"\"\"\n",
    "    if start is None:\n",
    "        start = choose(names)\n",
    "    start_idx = names.index(start)\n",
    "    return names[start_idx:] + names[:start_idx]"
   ]
  },
  {
   "cell_type": "code",
   "execution_count": 6,
   "metadata": {},
   "outputs": [
    {
     "data": {
      "text/plain": [
       "['bird', 'dog', 'apple']"
      ]
     },
     "execution_count": 6,
     "metadata": {},
     "output_type": "execute_result"
    }
   ],
   "source": [
    "player_order(['apple','bird', 'dog'], 'bird')"
   ]
  },
  {
   "cell_type": "code",
   "execution_count": 14,
   "metadata": {},
   "outputs": [
    {
     "name": "stdout",
     "output_type": "stream",
     "text": [
      "<string>:20: error: Unsupported left operand type for + (\"Sequence[str]\")\n",
      "\n"
     ]
    }
   ],
   "source": [
    "%%typecheck\n",
    "from typing import Sequence, Optional\n",
    "\n",
    "import random\n",
    "from typing import Sequence, TypeVar\n",
    "\n",
    "Choosable = TypeVar(\"Choosable\", str, float)\n",
    "\n",
    "\n",
    "def choose(items: Sequence[Choosable]) -> Choosable:\n",
    "    return random.choice(items)\n",
    "\n",
    "def player_order(\n",
    "    names: Sequence[str], start: Optional[str] = None\n",
    ") -> Sequence[str]:\n",
    "    \"\"\"Rotate player order so that start goes first\"\"\"\n",
    "    if start is None:\n",
    "        start = choose(names)\n",
    "    start_idx = names.index(start)\n",
    "    return names[start_idx:] + names[:start_idx]"
   ]
  },
  {
   "cell_type": "code",
   "execution_count": 16,
   "metadata": {},
   "outputs": [
    {
     "data": {
      "text/plain": [
       "['bird', 'dog', 'apple']"
      ]
     },
     "execution_count": 16,
     "metadata": {},
     "output_type": "execute_result"
    }
   ],
   "source": [
    "player_order(['apple','bird', 'dog'], 'bird')"
   ]
  },
  {
   "cell_type": "markdown",
   "metadata": {},
   "source": [
    "## Example: The Object(ive) of the Game"
   ]
  },
  {
   "cell_type": "code",
   "execution_count": 17,
   "metadata": {},
   "outputs": [
    {
     "name": "stdout",
     "output_type": "stream",
     "text": [
      "dog: ♢Q   apple: ♢6   bird: ♣4   cat: ♢2   \n",
      "dog: ♠7   apple: ♣Q   bird: ♢5   cat: ♡K   \n",
      "dog: ♠J   apple: ♠Q   bird: ♣6   cat: ♠2   \n",
      "dog: ♡8   apple: ♠8   bird: ♡5   cat: ♠6   \n",
      "dog: ♣A   apple: ♠K   bird: ♠4   cat: ♡J   \n",
      "dog: ♠3   apple: ♡9   bird: ♣J   cat: ♡4   \n",
      "dog: ♢A   apple: ♢4   bird: ♠10  cat: ♢7   \n",
      "dog: ♡A   apple: ♢3   bird: ♢9   cat: ♡10  \n",
      "dog: ♡3   apple: ♢K   bird: ♣2   cat: ♣7   \n",
      "dog: ♠5   apple: ♣5   bird: ♢8   cat: ♡Q   \n",
      "dog: ♣3   apple: ♡6   bird: ♢J   cat: ♡7   \n",
      "dog: ♢10  apple: ♡2   bird: ♣10  cat: ♠A   \n",
      "dog: ♣9   apple: ♣K   bird: ♠9   cat: ♣8   \n"
     ]
    }
   ],
   "source": [
    "# game.py\n",
    "\n",
    "import random\n",
    "import sys\n",
    "\n",
    "class Card:\n",
    "    SUITS = \"♠ ♡ ♢ ♣\".split()\n",
    "    RANKS = \"2 3 4 5 6 7 8 9 10 J Q K A\".split()\n",
    "\n",
    "    def __init__(self, suit, rank):\n",
    "        self.suit = suit\n",
    "        self.rank = rank\n",
    "\n",
    "    def __repr__(self):\n",
    "        return f\"{self.suit}{self.rank}\"\n",
    "\n",
    "class Deck:\n",
    "    def __init__(self, cards):\n",
    "        self.cards = cards\n",
    "\n",
    "    @classmethod\n",
    "    def create(cls, shuffle=False):\n",
    "        \"\"\"Create a new deck of 52 cards\"\"\"\n",
    "        cards = [Card(s, r) for r in Card.RANKS for s in Card.SUITS]\n",
    "        if shuffle:\n",
    "            random.shuffle(cards)\n",
    "        return cls(cards)\n",
    "\n",
    "    def deal(self, num_hands):\n",
    "        \"\"\"Deal the cards in the deck into a number of hands\"\"\"\n",
    "        cls = self.__class__\n",
    "        return tuple(cls(self.cards[i::num_hands]) for i in range(num_hands))\n",
    "\n",
    "class Player:\n",
    "    def __init__(self, name, hand):\n",
    "        self.name = name\n",
    "        self.hand = hand\n",
    "\n",
    "    def play_card(self):\n",
    "        \"\"\"Play a card from the player's hand\"\"\"\n",
    "        card = random.choice(self.hand.cards)\n",
    "        self.hand.cards.remove(card)\n",
    "        print(f\"{self.name}: {card!r:<3}  \", end=\"\")\n",
    "        return card\n",
    "\n",
    "class Game:\n",
    "    def __init__(self, *names):\n",
    "        \"\"\"Set up the deck and deal cards to 4 players\"\"\"\n",
    "        deck = Deck.create(shuffle=True)\n",
    "        self.names = (list(names) + \"P1 P2 P3 P4\".split())[:4]\n",
    "        self.hands = {\n",
    "            n: Player(n, h) for n, h in zip(self.names, deck.deal(4))\n",
    "        }\n",
    "\n",
    "    def play(self):\n",
    "        \"\"\"Play a card game\"\"\"\n",
    "        start_player = random.choice(self.names)\n",
    "        turn_order = self.player_order(start=start_player)\n",
    "\n",
    "        # Play cards from each player's hand until empty\n",
    "        while self.hands[start_player].hand.cards:\n",
    "            for name in turn_order:\n",
    "                self.hands[name].play_card()\n",
    "            print()\n",
    "\n",
    "    def player_order(self, start=None):\n",
    "        \"\"\"Rotate player order so that start goes first\"\"\"\n",
    "        if start is None:\n",
    "            start = random.choice(self.names)\n",
    "        start_idx = self.names.index(start)\n",
    "        return self.names[start_idx:] + self.names[:start_idx]\n",
    "\n",
    "# if __name__ == \"__main__\":\n",
    "#     # Read player names from command line\n",
    "#     player_names = sys.argv[1:]\n",
    "#     game = Game(*player_names)\n",
    "#     game.play()\n",
    "player_names = ['apple','bird', 'cat', 'dog']\n",
    "game = Game(*player_names)\n",
    "game.play()"
   ]
  }
 ],
 "metadata": {
  "kernelspec": {
   "display_name": "Python 3",
   "language": "python",
   "name": "python3"
  },
  "language_info": {
   "codemirror_mode": {
    "name": "ipython",
    "version": 3
   },
   "file_extension": ".py",
   "mimetype": "text/x-python",
   "name": "python",
   "nbconvert_exporter": "python",
   "pygments_lexer": "ipython3",
   "version": "3.6.6"
  }
 },
 "nbformat": 4,
 "nbformat_minor": 2
}
